{
 "cells": [
  {
   "cell_type": "code",
   "execution_count": 4,
   "id": "46967c3a",
   "metadata": {},
   "outputs": [],
   "source": [
    "import re"
   ]
  },
  {
   "cell_type": "code",
   "execution_count": 5,
   "id": "795f3082",
   "metadata": {},
   "outputs": [],
   "source": [
    "import numpy as np\n",
    "import pandas as pd\n",
    "import matplotlib.pyplot as mpt\n",
    "import seaborn as sns\n",
    "import joblib\n",
    "import warnings"
   ]
  },
  {
   "cell_type": "code",
   "execution_count": 6,
   "id": "4301e70c",
   "metadata": {},
   "outputs": [],
   "source": [
    "from sklearn.model_selection import train_test_split , cross_val_score , StratifiedGroupKFold"
   ]
  },
  {
   "cell_type": "code",
   "execution_count": 7,
   "id": "d60ae9dd",
   "metadata": {},
   "outputs": [],
   "source": [
    "from sklearn.pipeline import Pipeline"
   ]
  },
  {
   "cell_type": "code",
   "execution_count": 8,
   "id": "616af0b4",
   "metadata": {},
   "outputs": [],
   "source": [
    "from sklearn.feature_extraction.text import TfidfVectorizer"
   ]
  },
  {
   "cell_type": "code",
   "execution_count": 9,
   "id": "bbb670a2",
   "metadata": {},
   "outputs": [],
   "source": [
    "from sklearn.dummy import DummyClassifier"
   ]
  },
  {
   "cell_type": "code",
   "execution_count": 10,
   "id": "92bd0d75",
   "metadata": {},
   "outputs": [],
   "source": [
    "from sklearn.naive_bayes import MultinomialNB"
   ]
  },
  {
   "cell_type": "code",
   "execution_count": 11,
   "id": "ab0d6eb7",
   "metadata": {},
   "outputs": [],
   "source": [
    "from sklearn.linear_model import LogisticRegression"
   ]
  },
  {
   "cell_type": "code",
   "execution_count": 12,
   "id": "cfddfb66",
   "metadata": {},
   "outputs": [],
   "source": [
    "from sklearn.svm import LinearSVC"
   ]
  },
  {
   "cell_type": "code",
   "execution_count": 13,
   "id": "cfdc6363",
   "metadata": {},
   "outputs": [],
   "source": [
    "from sklearn.metrics import ( accuracy_score , precision_score , recall_score , f1_score , classification_report, confusion_matrix , ConfusionMatrixDisplay)"
   ]
  },
  {
   "cell_type": "code",
   "execution_count": 14,
   "id": "9495bcad",
   "metadata": {},
   "outputs": [],
   "source": [
    "warnings.filterwarnings(\"ignore\" , category=FutureWarning)"
   ]
  },
  {
   "cell_type": "code",
   "execution_count": 15,
   "id": "e2ae1ad6",
   "metadata": {},
   "outputs": [],
   "source": [
    "np.random.seed(42)"
   ]
  },
  {
   "cell_type": "code",
   "execution_count": 16,
   "id": "5892b45d",
   "metadata": {},
   "outputs": [],
   "source": [
    "RANDOM_STATE = 42"
   ]
  },
  {
   "cell_type": "code",
   "execution_count": 17,
   "id": "45c55900",
   "metadata": {},
   "outputs": [],
   "source": [
    "# treat spam as positive class for precision/recall/f1 reporting \n",
    "POS_LABEL = \"spam\""
   ]
  },
  {
   "cell_type": "code",
   "execution_count": 39,
   "id": "ca0fefe4",
   "metadata": {},
   "outputs": [
    {
     "data": {
      "text/html": [
       "<div>\n",
       "<style scoped>\n",
       "    .dataframe tbody tr th:only-of-type {\n",
       "        vertical-align: middle;\n",
       "    }\n",
       "\n",
       "    .dataframe tbody tr th {\n",
       "        vertical-align: top;\n",
       "    }\n",
       "\n",
       "    .dataframe thead th {\n",
       "        text-align: right;\n",
       "    }\n",
       "</style>\n",
       "<table border=\"1\" class=\"dataframe\">\n",
       "  <thead>\n",
       "    <tr style=\"text-align: right;\">\n",
       "      <th></th>\n",
       "      <th>Message ID</th>\n",
       "      <th>Subject</th>\n",
       "      <th>Message</th>\n",
       "      <th>Spam/Ham</th>\n",
       "      <th>Date</th>\n",
       "    </tr>\n",
       "  </thead>\n",
       "  <tbody>\n",
       "    <tr>\n",
       "      <th>0</th>\n",
       "      <td>0</td>\n",
       "      <td>christmas tree farm pictures</td>\n",
       "      <td>NaN</td>\n",
       "      <td>ham</td>\n",
       "      <td>1999-12-10</td>\n",
       "    </tr>\n",
       "    <tr>\n",
       "      <th>1</th>\n",
       "      <td>1</td>\n",
       "      <td>vastar resources , inc .</td>\n",
       "      <td>gary , production from the high island larger ...</td>\n",
       "      <td>ham</td>\n",
       "      <td>1999-12-13</td>\n",
       "    </tr>\n",
       "    <tr>\n",
       "      <th>2</th>\n",
       "      <td>2</td>\n",
       "      <td>calpine daily gas nomination</td>\n",
       "      <td>- calpine daily gas nomination 1 . doc</td>\n",
       "      <td>ham</td>\n",
       "      <td>1999-12-14</td>\n",
       "    </tr>\n",
       "    <tr>\n",
       "      <th>3</th>\n",
       "      <td>3</td>\n",
       "      <td>re : issue</td>\n",
       "      <td>fyi - see note below - already done .\\nstella\\...</td>\n",
       "      <td>ham</td>\n",
       "      <td>1999-12-14</td>\n",
       "    </tr>\n",
       "    <tr>\n",
       "      <th>4</th>\n",
       "      <td>4</td>\n",
       "      <td>meter 7268 nov allocation</td>\n",
       "      <td>fyi .\\n- - - - - - - - - - - - - - - - - - - -...</td>\n",
       "      <td>ham</td>\n",
       "      <td>1999-12-14</td>\n",
       "    </tr>\n",
       "  </tbody>\n",
       "</table>\n",
       "</div>"
      ],
      "text/plain": [
       "   Message ID                       Subject  \\\n",
       "0           0  christmas tree farm pictures   \n",
       "1           1      vastar resources , inc .   \n",
       "2           2  calpine daily gas nomination   \n",
       "3           3                    re : issue   \n",
       "4           4     meter 7268 nov allocation   \n",
       "\n",
       "                                             Message Spam/Ham        Date  \n",
       "0                                                NaN      ham  1999-12-10  \n",
       "1  gary , production from the high island larger ...      ham  1999-12-13  \n",
       "2             - calpine daily gas nomination 1 . doc      ham  1999-12-14  \n",
       "3  fyi - see note below - already done .\\nstella\\...      ham  1999-12-14  \n",
       "4  fyi .\\n- - - - - - - - - - - - - - - - - - - -...      ham  1999-12-14  "
      ]
     },
     "execution_count": 39,
     "metadata": {},
     "output_type": "execute_result"
    }
   ],
   "source": [
    "url = r\"C:\\Users\\HP\\Desktop\\projectsss\\Spam-Mail-Detector\\enron_spam_data.csv\"\n",
    "df = pd.read_csv(url, encoding=\"latin-1\")\n",
    "df.head()"
   ]
  },
  {
   "cell_type": "code",
   "execution_count": 21,
   "id": "46224566",
   "metadata": {},
   "outputs": [
    {
     "name": "stdout",
     "output_type": "stream",
     "text": [
      "Columns:  ['Message ID', 'Subject', 'Message', 'Spam/Ham', 'Date']\n"
     ]
    }
   ],
   "source": [
    "# inspect & basi cleaning: unify text field and labels\n",
    "# check columns\n",
    "print(\"Columns: \",df.columns.tolist())"
   ]
  },
  {
   "cell_type": "code",
   "execution_count": 40,
   "id": "ee6b3301",
   "metadata": {},
   "outputs": [
    {
     "name": "stdout",
     "output_type": "stream",
     "text": [
      "Found column:  Message\n",
      "Found column:  Subject\n"
     ]
    }
   ],
   "source": [
    "for col in [\"label\" , \"Label\" , \"message\", \"Message\" , \"subject\" , \"Subject\" , \"text\" , \"Text\"]:\n",
    "    if col in df.columns:\n",
    "        print(\"Found column: \", col)"
   ]
  },
  {
   "cell_type": "code",
   "execution_count": 41,
   "id": "4b3ea2d6",
   "metadata": {},
   "outputs": [],
   "source": [
    "# creating a single 'text' column combining subject+message\n",
    "\n",
    "if \"Subject\" in df.columns and \"Message\" in df.columns:\n",
    "    df[\"text\"] = df[\"Subject\"].fillna(\"\") + \" \" + df[\"Message\"].fillna(\"\")\n",
    "elif \"subject\" in df.columns and \"message\" in df.columns:\n",
    "    df[\"text\"] = df[\"subject\"].fillna(\"\") + \" \" + df[\"message\"].fillna(\"\")\n",
    "elif \"Message\" in df.columns:\n",
    "    df[\"text\"] = df[\"Message\"].astype(str)\n",
    "elif \"message\" in df.columns:\n",
    "    df[\"text\"] = df[\"message\"].astype(str)\n",
    "elif \"text\" in df.columns:\n",
    "    df[\"text\"] = df[\"text\"].astype(str)\n",
    "else:\n",
    "    display(df.head(3))\n",
    "    raise ValueError(\"Couldn't find email text columns; check CSV column names.\")"
   ]
  },
  {
   "cell_type": "code",
   "execution_count": 42,
   "id": "bafae86a",
   "metadata": {},
   "outputs": [],
   "source": [
    "# normalize label column to lower-case 'spam'/'ham'\n",
    "if \"Spam/Ham\" in df.columns:\n",
    "    df[\"label\"] = df[\"Spam/Ham\"].astype(str).str.lower().str.strip()\n",
    "elif \"label\" in df.columns:\n",
    "    df[\"label\"] = df[\"label\"].astype(str).str.lower().str.strip()\n",
    "elif \"Label\" in df.columns:\n",
    "    df[\"label\"] = df[\"Label\"].astype(str).str.lower().str.strip()\n",
    "else:\n",
    "    raise ValueError(\"Couldn't find label column; check CSV.\")\n",
    "        "
   ]
  },
  {
   "cell_type": "code",
   "execution_count": 43,
   "id": "30538f4d",
   "metadata": {},
   "outputs": [],
   "source": [
    "# keep only spam/ham rows\n",
    "df = df[df[\"label\"].isin([\"spam\", \"ham\"])].copy()\n",
    "df = df.dropna(subset=[\"text\"])\n",
    "df.reset_index(drop=True, inplace=True)"
   ]
  },
  {
   "cell_type": "code",
   "execution_count": 44,
   "id": "628bb085",
   "metadata": {},
   "outputs": [
    {
     "name": "stdout",
     "output_type": "stream",
     "text": [
      "Rows after cleaning: 33716\n",
      "label\n",
      "spam    17171\n",
      "ham     16545\n",
      "Name: count, dtype: int64\n"
     ]
    }
   ],
   "source": [
    "print(\"Rows after cleaning:\", len(df))\n",
    "print(df[\"label\"].value_counts())"
   ]
  },
  {
   "cell_type": "code",
   "execution_count": 45,
   "id": "b58bc346",
   "metadata": {},
   "outputs": [],
   "source": [
    "# lightweight EDA (class balance & text length)\n",
    "\n",
    "df[\"text_len\"] = df[\"text\"].str.len() # add a text length column"
   ]
  },
  {
   "cell_type": "code",
   "execution_count": 46,
   "id": "482c2106",
   "metadata": {},
   "outputs": [
    {
     "name": "stdout",
     "output_type": "stream",
     "text": [
      "label\n",
      "spam    17171\n",
      "ham     16545\n",
      "Name: count, dtype: int64\n"
     ]
    }
   ],
   "source": [
    "print(df[\"label\"].value_counts()) # check class balance"
   ]
  },
  {
   "cell_type": "code",
   "execution_count": 47,
   "id": "dfe4fbef",
   "metadata": {},
   "outputs": [
    {
     "data": {
      "image/png": "[encoded data removed]",
      "text/plain": [
       "<Figure size 600x400 with 1 Axes>"
      ]
     },
     "metadata": {},
     "output_type": "display_data"
    }
   ],
   "source": [
    "mpt.figure(figsize=(6,4))\n",
    "sns.countplot(x=\"label\", data=df)\n",
    "mpt.title(\"Class counts (ham vs spam)\")\n",
    "mpt.show()"
   ]
  },
  {
   "cell_type": "code",
   "execution_count": 48,
   "id": "f3ff2a14",
   "metadata": {},
   "outputs": [
    {
     "data": {
      "image/png": "[encoded data removed]",
      "text/plain": [
       "<Figure size 800x400 with 1 Axes>"
      ]
     },
     "metadata": {},
     "output_type": "display_data"
    }
   ],
   "source": [
    "mpt.figure(figsize=(8,4))\n",
    "sns.histplot(df[df[\"label\"]==\"ham\"][\"text_len\"], label=\"ham\", kde=False, bins=50, color=\"blue\")\n",
    "sns.histplot(df[df[\"label\"]==\"spam\"][\"text_len\"], label=\"spam\", kde=False, bins=50, color=\"red\")\n",
    "mpt.legend()\n",
    "mpt.title(\"Message length distribution\")\n",
    "mpt.show()"
   ]
  },
  {
   "cell_type": "code",
   "execution_count": 49,
   "id": "f91af651",
   "metadata": {},
   "outputs": [],
   "source": [
    "def simple_clean(text):\n",
    "    t = str(text)\n",
    "    \n",
    "    t = re.sub(r\"http\\S+|www\\.\\S+\", \" \", t) # remove URLs\n",
    "    \n",
    "    t = re.sub(r\"\\S+@\\S+\", \" \", t) # remove email addresses\n",
    "    \n",
    "    t = re.sub(r\"\\d+\", \" \", t) # remove numbers\n",
    "    \n",
    "    t = re.sub(r\"[^\\w\\s]\", \" \", t) # remove special characters (keep only alphanumeric and spaces)\n",
    "    \n",
    "    t = re.sub(r\"\\s+\", \" \", t).strip().lower()  # collapse whitespace, lowercase\n",
    "    return t"
   ]
  },
  {
   "cell_type": "code",
   "execution_count": 50,
   "id": "53cda750",
   "metadata": {},
   "outputs": [],
   "source": [
    "# Apply cleaning to your text column\n",
    "df[\"clean_text\"] = df[\"text\"].apply(simple_clean)\n"
   ]
  },
  {
   "cell_type": "code",
   "execution_count": 51,
   "id": "fb6ff4fa",
   "metadata": {},
   "outputs": [
    {
     "name": "stdout",
     "output_type": "stream",
     "text": [
      "hello visit or mail me at price\n",
      "                                                text  \\\n",
      "0                      christmas tree farm pictures    \n",
      "1  vastar resources , inc . gary , production fro...   \n",
      "2  calpine daily gas nomination - calpine daily g...   \n",
      "3  re : issue fyi - see note below - already done...   \n",
      "4  meter 7268 nov allocation fyi .\\n- - - - - - -...   \n",
      "\n",
      "                                          clean_text  \n",
      "0                       christmas tree farm pictures  \n",
      "1  vastar resources inc gary production from the ...  \n",
      "2  calpine daily gas nomination calpine daily gas...  \n",
      "3  re issue fyi see note below already done stell...  \n",
      "4  meter nov allocation fyi forwarded by lauri a ...  \n"
     ]
    }
   ],
   "source": [
    "print(simple_clean(\"Hello! Visit https://example.com or mail me at john@example.com. Price: $1000\"))\n",
    "print(df[[\"text\", \"clean_text\"]].head())  # check cleaned results"
   ]
  },
  {
   "cell_type": "code",
   "execution_count": 52,
   "id": "35f5b28e",
   "metadata": {},
   "outputs": [],
   "source": [
    "# prepare X, y, and train/test split (stratified)\n",
    "X = df[\"clean_text\"].values   # use pre-cleaned text\n",
    "y = df[\"label\"].values"
   ]
  },
  {
   "cell_type": "code",
   "execution_count": 53,
   "id": "0f04893b",
   "metadata": {},
   "outputs": [],
   "source": [
    "X_train, X_test, y_train, y_test = train_test_split(\n",
    "    X, y, test_size=0.2, stratify=y, random_state=RANDOM_STATE\n",
    ")"
   ]
  },
  {
   "cell_type": "code",
   "execution_count": 54,
   "id": "7cf3eb95",
   "metadata": {},
   "outputs": [
    {
     "name": "stdout",
     "output_type": "stream",
     "text": [
      "Train / Test sizes: 26972 6744\n",
      "Class distribution in y_train: spam    0.509269\n",
      "ham     0.490731\n",
      "Name: proportion, dtype: float64\n",
      "Class distribution in y_test: spam    0.509342\n",
      "ham     0.490658\n",
      "Name: proportion, dtype: float64\n"
     ]
    }
   ],
   "source": [
    "print(\"Train / Test sizes:\", len(X_train), len(X_test))\n",
    "print(\"Class distribution in y_train:\", pd.Series(y_train).value_counts(normalize=True))\n",
    "print(\"Class distribution in y_test:\", pd.Series(y_test).value_counts(normalize=True))"
   ]
  },
  {
   "cell_type": "code",
   "execution_count": 56,
   "id": "7f557c0d",
   "metadata": {},
   "outputs": [],
   "source": [
    "# Helper: evaluation function\n",
    "def eval_print(name, model, X_test, y_test):\n",
    "    preds = model.predict(X_test)\n",
    "    acc = accuracy_score(y_test, preds)\n",
    "    prec = precision_score(y_test, preds, pos_label=POS_LABEL, zero_division=0)\n",
    "    rec = recall_score(y_test, preds, pos_label=POS_LABEL, zero_division=0)\n",
    "    f1 = f1_score(y_test, preds, pos_label=POS_LABEL, zero_division=0)\n",
    "    print(f\"\\n=== {name} ===\")\n",
    "    print(f\"Accuracy:  {acc:.3f}\")\n",
    "    print(f\"Precision: {prec:.3f}\")\n",
    "    print(f\"Recall:    {rec:.3f}\")\n",
    "    print(f\"F1 (spam): {f1:.3f}\")\n",
    "    print(\"\\nClassification Report:\")\n",
    "    print(classification_report(y_test, preds, zero_division=0))\n",
    "    # confusion matrix\n",
    "    cm = confusion_matrix(y_test, preds, labels=[\"ham\",\"spam\"])\n",
    "    disp = ConfusionMatrixDisplay(confusion_matrix=cm, display_labels=[\"ham\",\"spam\"])\n",
    "    fig, ax = mpt.subplots(figsize=(4,3))\n",
    "    disp.plot(ax=ax, cmap=\"Blues\", colorbar=False)\n",
    "    mpt.title(f\"Confusion Matrix: {name}\")\n",
    "    mpt.show()\n",
    "    return {\"accuracy\":acc, \"precision\":prec, \"recall\":rec, \"f1\":f1}\n"
   ]
  },
  {
   "cell_type": "code",
   "execution_count": 57,
   "id": "5e54130c",
   "metadata": {},
   "outputs": [
    {
     "name": "stdout",
     "output_type": "stream",
     "text": [
      "\n",
      "=== Baseline (most frequent) ===\n",
      "Accuracy:  0.509\n",
      "Precision: 0.509\n",
      "Recall:    1.000\n",
      "F1 (spam): 0.675\n",
      "\n",
      "Classification Report:\n",
      "              precision    recall  f1-score   support\n",
      "\n",
      "         ham       0.00      0.00      0.00      3309\n",
      "        spam       0.51      1.00      0.67      3435\n",
      "\n",
      "    accuracy                           0.51      6744\n",
      "   macro avg       0.25      0.50      0.34      6744\n",
      "weighted avg       0.26      0.51      0.34      6744\n",
      "\n"
     ]
    },
    {
     "data": {
      "image/png": "[encoded data removed]",
      "text/plain": [
       "<Figure size 400x300 with 1 Axes>"
      ]
     },
     "metadata": {},
     "output_type": "display_data"
    }
   ],
   "source": [
    "# Baseline: predict the most frequent class\n",
    "baseline = DummyClassifier(strategy=\"most_frequent\", random_state=RANDOM_STATE)\n",
    "baseline.fit(X_train.reshape(-1,1), y_train)  # Dummy doesn't use X, but requires 2D\n",
    "baseline_metrics = eval_print(\"Baseline (most frequent)\", baseline, X_test.reshape(-1,1), y_test)"
   ]
  },
  {
   "cell_type": "code",
   "execution_count": 58,
   "id": "1eabcfaa",
   "metadata": {},
   "outputs": [],
   "source": [
    "pipe_nb = Pipeline([\n",
    "    (\"tfidf\", TfidfVectorizer(\n",
    "        preprocessor=simple_clean,\n",
    "        stop_words=\"english\",\n",
    "        ngram_range=(1,2),   # unigrams + bigrams\n",
    "        min_df=3,\n",
    "        max_df=0.9,\n",
    "        sublinear_tf=True\n",
    "    )),\n",
    "    (\"clf\", MultinomialNB())\n",
    "])\n"
   ]
  },
  {
   "cell_type": "code",
   "execution_count": 59,
   "id": "b4ecd096",
   "metadata": {},
   "outputs": [
    {
     "name": "stdout",
     "output_type": "stream",
     "text": [
      "\n",
      "=== TF-IDF + MultinomialNB ===\n",
      "Accuracy:  0.993\n",
      "Precision: 0.992\n",
      "Recall:    0.994\n",
      "F1 (spam): 0.993\n",
      "\n",
      "Classification Report:\n",
      "              precision    recall  f1-score   support\n",
      "\n",
      "         ham       0.99      0.99      0.99      3309\n",
      "        spam       0.99      0.99      0.99      3435\n",
      "\n",
      "    accuracy                           0.99      6744\n",
      "   macro avg       0.99      0.99      0.99      6744\n",
      "weighted avg       0.99      0.99      0.99      6744\n",
      "\n"
     ]
    },
    {
     "data": {
      "image/png": "[encoded data removed]",
      "text/plain": [
       "<Figure size 400x300 with 1 Axes>"
      ]
     },
     "metadata": {},
     "output_type": "display_data"
    }
   ],
   "source": [
    "pipe_nb.fit(X_train, y_train)\n",
    "nb_metrics = eval_print(\"TF-IDF + MultinomialNB\", pipe_nb, X_test, y_test)"
   ]
  },
  {
   "cell_type": "code",
   "execution_count": 60,
   "id": "d65315ad",
   "metadata": {},
   "outputs": [],
   "source": [
    "pipe_lr = Pipeline([\n",
    "    (\"tfidf\", TfidfVectorizer(\n",
    "        preprocessor=simple_clean,\n",
    "        stop_words=\"english\",\n",
    "        ngram_range=(1,2),\n",
    "        min_df=3,\n",
    "        max_df=0.9,\n",
    "        sublinear_tf=True\n",
    "    )),\n",
    "    (\"clf\", LogisticRegression(max_iter=1000, class_weight=\"balanced\", random_state=RANDOM_STATE))\n",
    "])"
   ]
  },
  {
   "cell_type": "code",
   "execution_count": 61,
   "id": "49f7b0c8",
   "metadata": {},
   "outputs": [
    {
     "name": "stdout",
     "output_type": "stream",
     "text": [
      "\n",
      "=== TF-IDF + LogisticRegression ===\n",
      "Accuracy:  0.991\n",
      "Precision: 0.986\n",
      "Recall:    0.997\n",
      "F1 (spam): 0.991\n",
      "\n",
      "Classification Report:\n",
      "              precision    recall  f1-score   support\n",
      "\n",
      "         ham       1.00      0.99      0.99      3309\n",
      "        spam       0.99      1.00      0.99      3435\n",
      "\n",
      "    accuracy                           0.99      6744\n",
      "   macro avg       0.99      0.99      0.99      6744\n",
      "weighted avg       0.99      0.99      0.99      6744\n",
      "\n"
     ]
    },
    {
     "data": {
      "image/png": "[encoded data removed]",
      "text/plain": [
       "<Figure size 400x300 with 1 Axes>"
      ]
     },
     "metadata": {},
     "output_type": "display_data"
    }
   ],
   "source": [
    "pipe_lr.fit(X_train, y_train)\n",
    "lr_metrics = eval_print(\"TF-IDF + LogisticRegression\", pipe_lr, X_test, y_test)"
   ]
  },
  {
   "cell_type": "code",
   "execution_count": 62,
   "id": "2f9f7277",
   "metadata": {},
   "outputs": [],
   "source": [
    "pipe_svc = Pipeline([\n",
    "    (\"tfidf\", TfidfVectorizer(preprocessor=simple_clean, stop_words=\"english\", ngram_range=(1,2), min_df=3)),\n",
    "    (\"clf\", LinearSVC(class_weight=\"balanced\", random_state=RANDOM_STATE))\n",
    "])"
   ]
  },
  {
   "cell_type": "code",
   "execution_count": 63,
   "id": "56e1fe41",
   "metadata": {},
   "outputs": [
    {
     "name": "stdout",
     "output_type": "stream",
     "text": [
      "\n",
      "=== TF-IDF + LinearSVC ===\n",
      "Accuracy:  0.995\n",
      "Precision: 0.992\n",
      "Recall:    0.997\n",
      "F1 (spam): 0.995\n",
      "\n",
      "Classification Report:\n",
      "              precision    recall  f1-score   support\n",
      "\n",
      "         ham       1.00      0.99      0.99      3309\n",
      "        spam       0.99      1.00      0.99      3435\n",
      "\n",
      "    accuracy                           0.99      6744\n",
      "   macro avg       0.99      0.99      0.99      6744\n",
      "weighted avg       0.99      0.99      0.99      6744\n",
      "\n"
     ]
    },
    {
     "data": {
      "image/png": "[encoded data removed]",
      "text/plain": [
       "<Figure size 400x300 with 1 Axes>"
      ]
     },
     "metadata": {},
     "output_type": "display_data"
    }
   ],
   "source": [
    "pipe_svc.fit(X_train, y_train)\n",
    "svc_metrics = eval_print(\"TF-IDF + LinearSVC\", pipe_svc, X_test, y_test)"
   ]
  },
  {
   "cell_type": "code",
   "execution_count": 64,
   "id": "96dd5055",
   "metadata": {},
   "outputs": [],
   "source": [
    "models_for_cv = {\n",
    "    \"NB\": pipe_nb,\n",
    "    \"LR\": pipe_lr,\n",
    "    \"SVC\": pipe_svc\n",
    "}"
   ]
  },
  {
   "cell_type": "code",
   "execution_count": 66,
   "id": "726f7f30",
   "metadata": {},
   "outputs": [],
   "source": [
    "from sklearn.model_selection import StratifiedKFold\n",
    "\n",
    "cv = StratifiedKFold(n_splits=5, shuffle=True, random_state=RANDOM_STATE)"
   ]
  },
  {
   "cell_type": "code",
   "execution_count": 67,
   "id": "2b7f8bb6",
   "metadata": {},
   "outputs": [
    {
     "name": "stdout",
     "output_type": "stream",
     "text": [
      "Cross-validation (F1 for spam):\n",
      "NB: mean F1 = nan, std = nan\n",
      "LR: mean F1 = nan, std = nan\n",
      "SVC: mean F1 = nan, std = nan\n"
     ]
    }
   ],
   "source": [
    "print(\"Cross-validation (F1 for spam):\")\n",
    "for name, model in models_for_cv.items():\n",
    "    scores = cross_val_score(model, X, y, cv=cv, scoring=\"f1\", n_jobs=-1)\n",
    "    print(f\"{name}: mean F1 = {scores.mean():.3f}, std = {scores.std():.3f}\")"
   ]
  },
  {
   "cell_type": "code",
   "execution_count": 68,
   "id": "4a52b1c9",
   "metadata": {},
   "outputs": [],
   "source": [
    "# get predicted probabilities for 'spam'\n",
    "proba = pipe_lr.predict_proba(X_test)  # shape (n_samples, 2)\n",
    "spam_idx = list(pipe_lr.classes_).index(\"spam\")\n",
    "p_spam = proba[:, spam_idx]"
   ]
  },
  {
   "cell_type": "code",
   "execution_count": 69,
   "id": "a695dd15",
   "metadata": {},
   "outputs": [],
   "source": [
    "best = {\"threshold\": 0.5, \"f1\": -1}"
   ]
  },
  {
   "cell_type": "code",
   "execution_count": 70,
   "id": "72027e9e",
   "metadata": {},
   "outputs": [],
   "source": [
    "for thr in np.linspace(0.1, 0.9, 17):\n",
    "    preds_thr = np.where(p_spam >= thr, \"spam\", \"ham\")\n",
    "    f1 = f1_score(y_test, preds_thr, pos_label=\"spam\", zero_division=0)\n",
    "    if f1 > best[\"f1\"]:\n",
    "        best = {\"threshold\": float(thr), \"f1\": float(f1)}"
   ]
  },
  {
   "cell_type": "code",
   "execution_count": 71,
   "id": "4ee7dfee",
   "metadata": {},
   "outputs": [
    {
     "name": "stdout",
     "output_type": "stream",
     "text": [
      "Best threshold by F1 for LR: {'threshold': 0.6, 'f1': 0.9933081175443701}\n"
     ]
    }
   ],
   "source": [
    "print(\"Best threshold by F1 for LR:\", best)"
   ]
  },
  {
   "cell_type": "code",
   "execution_count": 72,
   "id": "fb6ff0d5",
   "metadata": {},
   "outputs": [
    {
     "name": "stdout",
     "output_type": "stream",
     "text": [
      "              precision    recall  f1-score   support\n",
      "\n",
      "         ham       0.99      0.99      0.99      3309\n",
      "        spam       0.99      0.99      0.99      3435\n",
      "\n",
      "    accuracy                           0.99      6744\n",
      "   macro avg       0.99      0.99      0.99      6744\n",
      "weighted avg       0.99      0.99      0.99      6744\n",
      "\n"
     ]
    },
    {
     "data": {
      "image/png": "[encoded data removed]",
      "text/plain": [
       "<Figure size 640x480 with 2 Axes>"
      ]
     },
     "metadata": {},
     "output_type": "display_data"
    }
   ],
   "source": [
    "# visualize at best threshold\n",
    "preds_thr = np.where(p_spam >= best[\"threshold\"], \"spam\", \"ham\")\n",
    "print(classification_report(y_test, preds_thr, zero_division=0))\n",
    "ConfusionMatrixDisplay.from_predictions(y_test, preds_thr, display_labels=[\"ham\",\"spam\"])\n",
    "mpt.title(f\"LR Confusion Matrix @ threshold={best['threshold']:.2f}\")\n",
    "mpt.show()"
   ]
  },
  {
   "cell_type": "code",
   "execution_count": 73,
   "id": "5c5982b3",
   "metadata": {},
   "outputs": [],
   "source": [
    "# Get TF-IDF vocabulary & feature names from the TF-IDF step (use LR or NB pipe)\n",
    "tfidf = pipe_lr.named_steps[\"tfidf\"]\n",
    "clf_lr = pipe_lr.named_steps[\"clf\"]\n",
    "feature_names = tfidf.get_feature_names_out()"
   ]
  },
  {
   "cell_type": "code",
   "execution_count": 74,
   "id": "01e96436",
   "metadata": {},
   "outputs": [],
   "source": [
    "# top positive (spam) and negative (ham) coefficients in LR\n",
    "coefs = clf_lr.coef_[0]  # LR binary: shape (1, n_features) if classes are [ham, spam] or similar\n",
    "idx_sorted = np.argsort(coefs)\n",
    "top_ham = idx_sorted[:10]        # most negative coefficients (indicative of ham)\n",
    "top_spam = idx_sorted[-10:]      # most positive coefficients (indicative of spam)"
   ]
  },
  {
   "cell_type": "code",
   "execution_count": 75,
   "id": "693f7c18",
   "metadata": {},
   "outputs": [
    {
     "name": "stdout",
     "output_type": "stream",
     "text": [
      "Top words indicative of HAM:\n",
      "let know -4.808\n",
      "enron com -4.865\n",
      "meeting -5.176\n",
      "gas -5.558\n",
      "louise -6.053\n",
      "questions -6.117\n",
      "vince -7.3\n",
      "thanks -7.884\n",
      "attached -8.199\n",
      "enron -13.904\n"
     ]
    }
   ],
   "source": [
    "print(\"Top words indicative of HAM:\")\n",
    "for i in top_ham[::-1]:\n",
    "    print(feature_names[i], round(coefs[i], 3))"
   ]
  },
  {
   "cell_type": "code",
   "execution_count": 76,
   "id": "64907a46",
   "metadata": {},
   "outputs": [
    {
     "name": "stdout",
     "output_type": "stream",
     "text": [
      "\n",
      "Top words indicative of SPAM:\n",
      "http 5.079\n",
      "money 4.41\n",
      "online 3.967\n",
      "life 3.953\n",
      "software 3.714\n",
      "click 3.546\n",
      "save 3.164\n",
      "account 3.096\n",
      "man 2.991\n",
      "viagra 2.909\n"
     ]
    }
   ],
   "source": [
    "print(\"\\nTop words indicative of SPAM:\")\n",
    "for i in top_spam[::-1]:\n",
    "    print(feature_names[i], round(coefs[i], 3))"
   ]
  },
  {
   "cell_type": "code",
   "execution_count": 77,
   "id": "7834077a",
   "metadata": {},
   "outputs": [],
   "source": [
    "all_metrics = {\n",
    "    \"Baseline\": baseline_metrics,\n",
    "    \"NB\": nb_metrics,\n",
    "    \"LR\": lr_metrics,\n",
    "    \"SVC\": svc_metrics\n",
    "}"
   ]
  },
  {
   "cell_type": "code",
   "execution_count": 78,
   "id": "db01ecde",
   "metadata": {},
   "outputs": [
    {
     "data": {
      "text/html": [
       "<div>\n",
       "<style scoped>\n",
       "    .dataframe tbody tr th:only-of-type {\n",
       "        vertical-align: middle;\n",
       "    }\n",
       "\n",
       "    .dataframe tbody tr th {\n",
       "        vertical-align: top;\n",
       "    }\n",
       "\n",
       "    .dataframe thead th {\n",
       "        text-align: right;\n",
       "    }\n",
       "</style>\n",
       "<table border=\"1\" class=\"dataframe\">\n",
       "  <thead>\n",
       "    <tr style=\"text-align: right;\">\n",
       "      <th></th>\n",
       "      <th>accuracy</th>\n",
       "      <th>precision</th>\n",
       "      <th>recall</th>\n",
       "      <th>f1</th>\n",
       "    </tr>\n",
       "  </thead>\n",
       "  <tbody>\n",
       "    <tr>\n",
       "      <th>Baseline</th>\n",
       "      <td>0.509342</td>\n",
       "      <td>0.509342</td>\n",
       "      <td>1.000000</td>\n",
       "      <td>0.674919</td>\n",
       "    </tr>\n",
       "    <tr>\n",
       "      <th>NB</th>\n",
       "      <td>0.993179</td>\n",
       "      <td>0.992158</td>\n",
       "      <td>0.994469</td>\n",
       "      <td>0.993312</td>\n",
       "    </tr>\n",
       "    <tr>\n",
       "      <th>LR</th>\n",
       "      <td>0.991251</td>\n",
       "      <td>0.986175</td>\n",
       "      <td>0.996798</td>\n",
       "      <td>0.991458</td>\n",
       "    </tr>\n",
       "    <tr>\n",
       "      <th>SVC</th>\n",
       "      <td>0.994662</td>\n",
       "      <td>0.992466</td>\n",
       "      <td>0.997089</td>\n",
       "      <td>0.994772</td>\n",
       "    </tr>\n",
       "  </tbody>\n",
       "</table>\n",
       "</div>"
      ],
      "text/plain": [
       "          accuracy  precision    recall        f1\n",
       "Baseline  0.509342   0.509342  1.000000  0.674919\n",
       "NB        0.993179   0.992158  0.994469  0.993312\n",
       "LR        0.991251   0.986175  0.996798  0.991458\n",
       "SVC       0.994662   0.992466  0.997089  0.994772"
      ]
     },
     "metadata": {},
     "output_type": "display_data"
    }
   ],
   "source": [
    "summary = pd.DataFrame.from_dict(all_metrics, orient=\"index\")\n",
    "display(summary[[\"accuracy\",\"precision\",\"recall\",\"f1\"]])"
   ]
  },
  {
   "cell_type": "code",
   "execution_count": 79,
   "id": "7242ccc2",
   "metadata": {},
   "outputs": [
    {
     "data": {
      "image/png": "[encoded data removed]",
      "text/plain": [
       "<Figure size 600x300 with 1 Axes>"
      ]
     },
     "metadata": {},
     "output_type": "display_data"
    }
   ],
   "source": [
    "# Bar chart of F1 scores\n",
    "mpt.figure(figsize=(6,3))\n",
    "mpt.bar(summary.index, summary[\"f1\"])\n",
    "mpt.title(\"Model comparison (F1 for spam)\")\n",
    "mpt.ylabel(\"F1 (spam)\")\n",
    "mpt.ylim(0,1)\n",
    "mpt.show()"
   ]
  },
  {
   "cell_type": "code",
   "execution_count": 80,
   "id": "d2937fe2",
   "metadata": {},
   "outputs": [
    {
     "name": "stdout",
     "output_type": "stream",
     "text": [
      "Best model by F1: SVC\n"
     ]
    }
   ],
   "source": [
    "# choose best by F1 here:\n",
    "best_name = summary[\"f1\"].idxmax()\n",
    "print(\"Best model by F1:\", best_name)"
   ]
  },
  {
   "cell_type": "code",
   "execution_count": 81,
   "id": "839356a4",
   "metadata": {},
   "outputs": [
    {
     "name": "stdout",
     "output_type": "stream",
     "text": [
      "Saved best model as best_spam_model.joblib\n"
     ]
    }
   ],
   "source": [
    "# map name -> pipeline object\n",
    "model_map = {\"NB\": pipe_nb, \"LR\": pipe_lr, \"SVC\": pipe_svc}\n",
    "if best_name in model_map:\n",
    "    best_model_obj = model_map[best_name]\n",
    "    joblib.dump(best_model_obj, \"best_spam_model.joblib\")\n",
    "    print(\"Saved best model as best_spam_model.joblib\")\n",
    "else:\n",
    "    print(\"Baseline was best (unlikely).\")"
   ]
  }
 ],
 "metadata": {
  "kernelspec": {
   "display_name": "ML",
   "language": "python",
   "name": "python3"
  },
  "language_info": {
   "codemirror_mode": {
    "name": "ipython",
    "version": 3
   },
   "file_extension": ".py",
   "mimetype": "text/x-python",
   "name": "python",
   "nbconvert_exporter": "python",
   "pygments_lexer": "ipython3",
   "version": "3.12.7"
  }
 },
 "nbformat": 4,
 "nbformat_minor": 5
}
